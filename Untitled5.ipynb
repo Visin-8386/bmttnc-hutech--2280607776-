{
  "cells": [
    {
      "cell_type": "code",
      "execution_count": 2,
      "metadata": {
        "colab": {
          "base_uri": "https://localhost:8080/"
        },
        "id": "7-gnA_2Bzu0K",
        "outputId": "5fd01499-7e05-4515-9037-aebd663c16fc"
      },
      "outputs": [
        {
          "name": "stdout",
          "output_type": "stream",
          "text": [
            "12\n"
          ]
        }
      ],
      "source": [
        "a = 10\n",
        "b = 3\n",
        "\n",
        "print(\"Tổng:\", a + b)\n",
        "print(\"Hiệu:\", a - b)\n",
        "print(\"Tích:\", a * b)\n",
        "print(\"Thương:\", a / b)\n",
        "print(\"Chia lấy dư:\", a % b)\n",
        "print(\"Lũy thừa:\", a ** b)\n",
        "print(\"Chia làm tròn xuống:\", a // b)\n"
      ]
    },
    {
      "cell_type": "code",
      "execution_count": 5,
      "metadata": {
        "colab": {
          "base_uri": "https://localhost:8080/"
        },
        "id": "RegULPSOz-IE",
        "outputId": "4f8169fd-e601-4aeb-8f71-ebb301c8c3bb"
      },
      "outputs": [
        {
          "name": "stdout",
          "output_type": "stream",
          "text": [
            "AND: False\n",
            "OR: True\n",
            "NOT x: False\n"
          ]
        }
      ],
      "source": [
        "x = True\n",
        "y = False\n",
        "\n",
        "print(\"AND:\", x and y)\n",
        "print(\"OR:\", x or y)\n",
        "print(\"NOT x:\", not x)\n"
      ]
    },
    {
      "cell_type": "code",
      "execution_count": 8,
      "metadata": {
        "colab": {
          "base_uri": "https://localhost:8080/"
        },
        "id": "rcg9f54p0Ck0",
        "outputId": "af058f02-b7fa-4573-c272-f7431192aee3"
      },
      "outputs": [
        {
          "name": "stdout",
          "output_type": "stream",
          "text": [
            "Nhập tên của bạn: po\n",
            "Nhập tuổi: 18\n",
            "Xin chào, po - Tuổi của bạn là: 18\n"
          ]
        }
      ],
      "source": [
        "name = input(\"Nhập tên của bạn: \")\n",
        "age = int(input(\"Nhập tuổi: \"))\n",
        "print(\"Xin chào,\", name, \"- Tuổi của bạn là:\", age)\n"
      ]
    },
    {
      "cell_type": "code",
      "execution_count": null,
      "metadata": {
        "colab": {
          "base_uri": "https://localhost:8080/"
        },
        "id": "A7vIQj-M0Cn3",
        "outputId": "d038de37-a288-4cdc-d3b7-52096d3a6edd"
      },
      "outputs": [
        {
          "name": "stdout",
          "output_type": "stream",
          "text": [
            "Nhập một số: 4\n",
            "Số dương\n",
            "While:\n",
            "Lặp lần: 0\n",
            "Lặp lần: 1\n",
            "Lặp lần: 2\n",
            "break:\n",
            "Giá trị: 1\n",
            "Giá trị: 2\n",
            "Giá trị: 3\n",
            "Giá trị: 4\n",
            "continue:\n",
            "Giá trị: 1\n",
            "Giá trị: 2\n",
            "Giá trị: 4\n",
            "Giá trị: 5\n",
            "pass:\n",
            "Giá trị: 1\n",
            "Giá trị: 2\n",
            "Giá trị: 3\n"
          ]
        }
      ],
      "source": [
        "number = int(input(\"Nhập một số: \"))\n",
        "\n",
        "if number > 0:\n",
        "    print(\"Số dương\")\n",
        "elif number == 0:\n",
        "    print(\"Số không\")\n",
        "else:\n",
        "    print(\"Số âm\")\n",
        "\n",
        "print(\"While:\")\n",
        "i = 0\n",
        "while i < 3:\n",
        "    print(\"Lặp lần:\", i)\n",
        "    i += 1\n",
        "print(\"break:\")\n",
        "for i in range(1, 10):\n",
        "    if i == 5:\n",
        "        break\n",
        "    print(\"Giá trị:\", i)\n",
        "print(\"continue:\")\n",
        "for i in range(1, 6):\n",
        "    if i == 3:\n",
        "        continue\n",
        "    print(\"Giá trị:\", i)\n",
        "print(\"pass:\")\n",
        "for i in range(1, 4):\n",
        "    if i == 2:\n",
        "        pass\n",
        "    print(\"Giá trị:\", i)\n",
        "\n",
        "\n",
        "\n"
      ]
    },
    {
      "cell_type": "code",
      "execution_count": 9,
      "metadata": {
        "colab": {
          "base_uri": "https://localhost:8080/"
        },
        "id": "wQYu2-ZB2Fc3",
        "outputId": "1e4d140b-b330-4266-8b74-23a825521540"
      },
      "outputs": [
        {
          "name": "stdout",
          "output_type": "stream",
          "text": [
            "Độ dài chuỗi: 13\n",
            "Chữ hoa: HELLO, PYTHON\n",
            "Chữ thường: hello, python\n",
            "Phân tách: ['Hello', ' Python']\n",
            "Chuỗi con: Hello\n",
            "Thay thế: Hello, World\n"
          ]
        }
      ],
      "source": [
        "s = \"Hello, Python\"\n",
        "\n",
        "print(\"Độ dài chuỗi:\", len(s))\n",
        "print(\"Chữ hoa:\", s.upper())\n",
        "print(\"Chữ thường:\", s.lower())\n",
        "print(\"Phân tách:\",s.split(\",\"))\n",
        "print(\"Chuỗi con:\", s[0:5])\n",
        "print(\"Thay thế:\", s.replace(\"Python\", \"World\"))\n"
      ]
    },
    {
      "cell_type": "code",
      "execution_count": 15,
      "metadata": {
        "colab": {
          "base_uri": "https://localhost:8080/"
        },
        "id": "5VrOcKC56pKk",
        "outputId": "201899b5-ad67-4934-d9f3-31cbc2eb97dc"
      },
      "outputs": [
        {
          "name": "stdout",
          "output_type": "stream",
          "text": [
            "Tổng là: 12\n"
          ]
        }
      ],
      "source": [
        "def tinh_tong(x, y):\n",
        "    return x + y\n",
        "\n",
        "print(\"Tổng là:\", tinh_tong(5, 7))\n"
      ]
    },
    {
      "cell_type": "code",
      "execution_count": 14,
      "metadata": {
        "colab": {
          "base_uri": "https://localhost:8080/"
        },
        "id": "xmDLimZR3RPN",
        "outputId": "2a0bfbc8-c164-423a-830b-3b669d83d5ff"
      },
      "outputs": [
        {
          "name": "stdout",
          "output_type": "stream",
          "text": [
            "Mảng: array('i', [1, 2, 3, 4])\n",
            "Sau khi thêm: array('i', [1, 2, 3, 4, 5])\n"
          ]
        }
      ],
      "source": [
        "import array\n",
        "\n",
        "arr = array.array('i', [1, 2, 3, 4])\n",
        "print(\"Mảng:\", arr)\n",
        "arr.append(5)\n",
        "print(\"Sau khi thêm:\", arr)\n"
      ]
    },
    {
      "cell_type": "code",
      "execution_count": 17,
      "metadata": {
        "colab": {
          "base_uri": "https://localhost:8080/"
        },
        "id": "ChGWCKEj6sGU",
        "outputId": "6fce7996-0964-4af4-d536-68cf39cc5f22"
      },
      "outputs": [
        {
          "name": "stdout",
          "output_type": "stream",
          "text": [
            "Danh sách: [1, 3, 4, 5]\n",
            "Số phần tử: 4\n",
            "5\n"
          ]
        }
      ],
      "source": [
        "ds = [1, 2, 3, 4]\n",
        "ds.append(5)\n",
        "ds.remove(2)\n",
        "print(\"Danh sách:\", ds)\n",
        "print(\"Số phần tử:\", len(ds))\n",
        "print(ds[3])"
      ]
    },
    {
      "cell_type": "code",
      "execution_count": 21,
      "metadata": {
        "colab": {
          "base_uri": "https://localhost:8080/"
        },
        "id": "PeoPyN-G7Lwu",
        "outputId": "2cd57a36-c2ab-478a-d63b-d6c84f625a2f"
      },
      "outputs": [
        {
          "name": "stdout",
          "output_type": "stream",
          "text": [
            "Tuple: (10, 20, 30, 10)\n",
            "Phần tử đầu: 10\n",
            "Cout: 2\n",
            "index: 0\n"
          ]
        }
      ],
      "source": [
        "tp = (10, 20, 30, 10)\n",
        "print(\"Tuple:\", tp)\n",
        "print(\"Phần tử đầu:\", tp[0])\n",
        "print(\"Cout:\",tp.count(10))\n",
        "print(\"index:\",tp.index(10))\n"
      ]
    },
    {
      "cell_type": "code",
      "execution_count": null,
      "metadata": {
        "colab": {
          "base_uri": "https://localhost:8080/"
        },
        "id": "Cwq7KIqD7lPN",
        "outputId": "9216b16a-8ccb-494e-aeea-a077cc71c9ef"
      },
      "outputs": [
        {
          "name": "stdout",
          "output_type": "stream",
          "text": [
            "Tên: Nguyen Van A\n",
            "Lớp: 12A1\n",
            "Có thông tin tuổi\n",
            "dict_keys(['hoten', 'tuoi'])\n",
            "dict_values(['Nguyen Van A', 21])\n",
            "dict_items([('hoten', 'Nguyen Van A'), ('tuoi', 21)])\n"
          ]
        }
      ],
      "source": [
        "sv = {\"hoten\": \"Nguyen Van A\", \"tuoi\": 20}\n",
        "\n",
        "sv[\"lop\"] = \"12A1\"\n",
        "\n",
        "sv.update({\"tuoi\": 21})\n",
        "\n",
        "print(\"Tên:\", sv.get(\"hoten\"))\n",
        "print(\"Lớp:\", sv.get(\"lop\", \"Không có lớp\"))\n",
        "\n",
        "sv.pop(\"lop\")\n",
        "\n",
        "if \"tuoi\" in sv:\n",
        "    print(\"Có thông tin tuổi\")\n",
        "\n",
        "print(sv.keys())\n",
        "print(sv.values())\n",
        "print(sv.items())\n"
      ]
    },
    {
      "cell_type": "code",
      "execution_count": null,
      "metadata": {
        "colab": {
          "base_uri": "https://localhost:8080/"
        },
        "id": "gq2X2hPQ-vAH",
        "outputId": "7c2dedbc-68df-4db6-c941-090ee93b3c44"
      },
      "outputs": [
        {
          "name": "stdout",
          "output_type": "stream",
          "text": [
            "Tên: Nguyen Van A, Tuổi: 25\n"
          ]
        }
      ],
      "source": [
        "class NhanVien:\n",
        "    def __init__(self, ten, tuoi):\n",
        "        self.ten = ten\n",
        "        self.tuoi = tuoi\n",
        "\n",
        "    def hien_thi(self):\n",
        "        print(f\"Tên: {self.ten}, Tuổi: {self.tuoi}\")\n",
        "\n",
        "# Tạo đối tượng\n",
        "nv1 = NhanVien(\"Nguyen Van A\", 25)\n",
        "nv1.hien_thi()\n"
      ]
    },
    {
      "cell_type": "code",
      "execution_count": null,
      "metadata": {
        "colab": {
          "base_uri": "https://localhost:8080/"
        },
        "id": "K0x_6DSy-6kT",
        "outputId": "1ef6c894-ba1b-4323-9714-5636361e2ec1"
      },
      "outputs": [
        {
          "name": "stdout",
          "output_type": "stream",
          "text": [
            "GĐ Tran Thi B (40 tuổi), Công ty: ABC Corp\n"
          ]
        }
      ],
      "source": [
        "class NhanVien:\n",
        "    def __init__(self, ten, tuoi):\n",
        "        self.ten = ten\n",
        "        self.tuoi = tuoi\n",
        "\n",
        "    def hien_thi(self):\n",
        "        print(f\"Tên: {self.ten}, Tuổi: {self.tuoi}\")\n",
        "\n",
        "class GiamDoc(NhanVien):\n",
        "    def __init__(self, ten, tuoi, cong_ty):\n",
        "        super().__init__(ten, tuoi)\n",
        "        self.cong_ty = cong_ty\n",
        "\n",
        "    def hien_thi(self):\n",
        "        print(f\"GĐ {self.ten} ({self.tuoi} tuổi), Công ty: {self.cong_ty}\")\n",
        "\n",
        "gd = GiamDoc(\"Tran Thi B\", 40, \"ABC Corp\")\n",
        "gd.hien_thi()\n"
      ]
    },
    {
      "cell_type": "code",
      "execution_count": 30,
      "metadata": {
        "colab": {
          "base_uri": "https://localhost:8080/"
        },
        "id": "bL2Wljyv-6i3",
        "outputId": "04cf414c-f639-4838-a720-1812c158e741"
      },
      "outputs": [
        {
          "name": "stdout",
          "output_type": "stream",
          "text": [
            "Gâu gâu\n",
            "Meo meo\n"
          ]
        }
      ],
      "source": [
        "class DongVat:\n",
        "    def keu(self):\n",
        "        print(\"Động vật đang kêu...\")\n",
        "\n",
        "class Cho(DongVat):\n",
        "    def keu(self):\n",
        "        print(\"Gâu gâu\")\n",
        "\n",
        "class Meo(DongVat):\n",
        "    def keu(self):\n",
        "        print(\"Meo meo\")\n",
        "\n",
        "# Hàm đa hình\n",
        "def phat_tieng(dv):\n",
        "    dv.keu()\n",
        "\n",
        "phat_tieng(Cho())\n",
        "phat_tieng(Meo())\n"
      ]
    },
    {
      "cell_type": "code",
      "execution_count": 32,
      "metadata": {
        "colab": {
          "base_uri": "https://localhost:8080/"
        },
        "id": "8tdAkpOF_BUt",
        "outputId": "75a0ad2e-78a9-43f4-febe-86cf7a79b212"
      },
      "outputs": [
        {
          "name": "stdout",
          "output_type": "stream",
          "text": [
            "Diện tích: 78.5\n"
          ]
        }
      ],
      "source": [
        "from abc import ABC, abstractmethod\n",
        "\n",
        "class HinhHoc(ABC):\n",
        "    @abstractmethod\n",
        "    def tinh_dien_tich(self):\n",
        "        pass\n",
        "\n",
        "class HinhTron(HinhHoc):\n",
        "    def __init__(self, ban_kinh):\n",
        "        self.r = ban_kinh\n",
        "\n",
        "    def tinh_dien_tich(self):\n",
        "        return 3.14 * self.r * self.r\n",
        "\n",
        "hinh = HinhTron(5)\n",
        "print(\"Diện tích:\", hinh.tinh_dien_tich())\n"
      ]
    },
    {
      "cell_type": "code",
      "execution_count": null,
      "metadata": {
        "id": "urbRjplE_Hvt"
      },
      "outputs": [],
      "source": []
    }
  ],
  "metadata": {
    "colab": {
      "provenance": []
    },
    "kernelspec": {
      "display_name": "Python 3",
      "name": "python3"
    },
    "language_info": {
      "name": "python"
    }
  },
  "nbformat": 4,
  "nbformat_minor": 0
}
